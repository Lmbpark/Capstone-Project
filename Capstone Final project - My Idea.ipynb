{
    "cells": [
        {
            "metadata": {
                "collapsed": true
            },
            "cell_type": "markdown",
            "source": "# Clustering and segmenting neigborhood in Paris "
        },
        {
            "metadata": {},
            "cell_type": "markdown",
            "source": "    Liman M"
        },
        {
            "metadata": {},
            "cell_type": "markdown",
            "source": "1- Introduction"
        },
        {
            "metadata": {},
            "cell_type": "markdown",
            "source": "1.1- Les Faits"
        },
        {
            "metadata": {},
            "cell_type": "markdown",
            "source": "Paris est connue dans le monde entier pour ses monuments et sa vie artistique et culturelle, Paris est aussi une ville importante dans l\u2019histoire du monde, avec un impact politique et \u00e9conomique majeur. Symbole de la culture fran\u00e7aise, son animation et ses grands mus\u00e9es en font une attraction pour pr\u00e8s de trente millions de visiteurs par an. Paris est \u00e9galement consid\u00e9r\u00e9e comme une des capitales mondiales de la mode et du luxe."
        },
        {
            "metadata": {},
            "cell_type": "markdown",
            "source": "Paris est la neuvi\u00e8me ville la plus ch\u00e8re du monde en ce qui concerne les prix de l'immobilier de luxe : 12 600 euros/m2 en 2007 (contre 36 800 pour Londres, la plus ch\u00e8re)84,85. Selon une enqu\u00eate r\u00e9alis\u00e9e pour le journal La Tribune, au 1er septembre 2012, la rue la plus ch\u00e8re de Paris est le quai des Orf\u00e8vres (1er arr.), avec un prix m\u00e9dian de 20 665 euros/m2, contre 3 900 euros/m2 rue Pajol (18e)86. Paris devient en 2017 la ville la plus attractive d'Europe pour les investisseurs immobiliers, ce qui ne s'\u00e9tait pas produit depuis 2007. Une \u00e9tude de l'Institut d'am\u00e9nagement et d'urbanisme (IAU) publi\u00e9e en 2019 souligne que les prix du logement poussent les personnes modestes \u00e0 quitter Paris et \u00e0 s'installer dans des d\u00e9partements limitrophes comme la Seine-Saint-Denis, ce qui tend \u00e0 provoquer un \u00ab embourgeoisement \u00bb de la capitale et une paup\u00e9risation des proches d\u00e9partements."
        },
        {
            "metadata": {},
            "cell_type": "markdown",
            "source": "1-2- Probl\u00e9matique et int\u00e9r\u00eats"
        },
        {
            "metadata": {},
            "cell_type": "markdown",
            "source": "Il s'agit de pr\u00e9dire pour un investisseur immobilier, les lieux attractives de paris ou il est plus avantageux d'investir."
        },
        {
            "metadata": {},
            "cell_type": "markdown",
            "source": "2- Donn\u00e9es et m\u00e9thodes de r\u00e9solutions"
        },
        {
            "metadata": {},
            "cell_type": "code",
            "source": "La page wikip\u00e9d\u00e9dia et Foursquare webpage seront les bases de donn\u00e9es qui seront extraits, restructur\u00e9 pour analys\u00e9 et comparer les donn\u00e9es selon les arrondissements.",
            "execution_count": null,
            "outputs": []
        }
    ],
    "metadata": {
        "kernelspec": {
            "name": "python3",
            "display_name": "Python 3.6",
            "language": "python"
        },
        "language_info": {
            "name": "python",
            "version": "3.6.9",
            "mimetype": "text/x-python",
            "codemirror_mode": {
                "name": "ipython",
                "version": 3
            },
            "pygments_lexer": "ipython3",
            "nbconvert_exporter": "python",
            "file_extension": ".py"
        }
    },
    "nbformat": 4,
    "nbformat_minor": 1
}
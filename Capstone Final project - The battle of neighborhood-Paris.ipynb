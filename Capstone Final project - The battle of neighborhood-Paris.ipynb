{
    "cells": [
        {
            "cell_type": "markdown",
            "metadata": {
                "collapsed": true
            },
            "source": "# Clustering and segmenting neigborhood in Paris "
        },
        {
            "cell_type": "markdown",
            "metadata": {},
            "source": "    Liman M"
        },
        {
            "cell_type": "markdown",
            "metadata": {},
            "source": "1- Introduction"
        },
        {
            "cell_type": "markdown",
            "metadata": {},
            "source": "1.1- Les Faits"
        },
        {
            "cell_type": "markdown",
            "metadata": {},
            "source": "Paris est connue dans le monde entier pour ses monuments et sa vie artistique et culturelle, Paris est aussi une ville importante dans l\u2019histoire du monde, avec un impact politique et \u00e9conomique majeur. Symbole de la culture fran\u00e7aise, son animation et ses grands mus\u00e9es en font une attraction pour pr\u00e8s de trente millions de visiteurs par an. Paris est \u00e9galement consid\u00e9r\u00e9e comme une des capitales mondiales de la mode et du luxe."
        },
        {
            "cell_type": "markdown",
            "metadata": {},
            "source": "Paris est la neuvi\u00e8me ville la plus ch\u00e8re du monde en ce qui concerne les prix de l'immobilier de luxe : 12 600 euros/m2 en 2007 (contre 36 800 pour Londres, la plus ch\u00e8re)84,85. Selon une enqu\u00eate r\u00e9alis\u00e9e pour le journal La Tribune, au 1er septembre 2012, la rue la plus ch\u00e8re de Paris est le quai des Orf\u00e8vres (1er arr.), avec un prix m\u00e9dian de 20 665 euros/m2, contre 3 900 euros/m2 rue Pajol (18e)86. Paris devient en 2017 la ville la plus attractive d'Europe pour les investisseurs immobiliers, ce qui ne s'\u00e9tait pas produit depuis 2007. Une \u00e9tude de l'Institut d'am\u00e9nagement et d'urbanisme (IAU) publi\u00e9e en 2019 souligne que les prix du logement poussent les personnes modestes \u00e0 quitter Paris et \u00e0 s'installer dans des d\u00e9partements limitrophes comme la Seine-Saint-Denis, ce qui tend \u00e0 provoquer un \u00ab embourgeoisement \u00bb de la capitale et une paup\u00e9risation des proches d\u00e9partements."
        },
        {
            "cell_type": "markdown",
            "metadata": {},
            "source": "1-2- Probl\u00e9matique et int\u00e9r\u00eats"
        },
        {
            "cell_type": "markdown",
            "metadata": {},
            "source": "Il s'agit de pr\u00e9dire pour un investisseur immobilier, les lieux attractives de paris ou il est plus avantageux d'investir."
        },
        {
            "cell_type": "markdown",
            "metadata": {},
            "source": "2- Donn\u00e9es et m\u00e9thodes de r\u00e9solutions"
        },
        {
            "cell_type": "markdown",
            "metadata": {},
            "source": "La page wikip\u00e9d\u00e9dia et Foursquare webpage seront les bases de donn\u00e9es qui seront extraits, restructur\u00e9 pour analys\u00e9 et comparer les donn\u00e9es selon les arrondissements."
        },
        {
            "cell_type": "markdown",
            "metadata": {},
            "source": "3- Exploitation des donn\u00e9es "
        },
        {
            "cell_type": "code",
            "execution_count": 1,
            "metadata": {},
            "outputs": [
                {
                    "ename": "ModuleNotFoundError",
                    "evalue": "No module named 'folium'",
                    "output_type": "error",
                    "traceback": [
                        "\u001b[0;31m---------------------------------------------------------------------------\u001b[0m",
                        "\u001b[0;31mModuleNotFoundError\u001b[0m                       Traceback (most recent call last)",
                        "\u001b[0;32m<ipython-input-1-4423f553601c>\u001b[0m in \u001b[0;36m<module>\u001b[0;34m\u001b[0m\n\u001b[1;32m      7\u001b[0m \u001b[0;32mimport\u001b[0m \u001b[0murllib\u001b[0m\u001b[0;34m\u001b[0m\u001b[0;34m\u001b[0m\u001b[0m\n\u001b[1;32m      8\u001b[0m \u001b[0;32mfrom\u001b[0m \u001b[0mgeopy\u001b[0m\u001b[0;34m.\u001b[0m\u001b[0mgeocoders\u001b[0m \u001b[0;32mimport\u001b[0m \u001b[0mNominatim\u001b[0m\u001b[0;34m\u001b[0m\u001b[0;34m\u001b[0m\u001b[0m\n\u001b[0;32m----> 9\u001b[0;31m \u001b[0;32mimport\u001b[0m \u001b[0mfolium\u001b[0m \u001b[0;31m# map rendering library\u001b[0m\u001b[0;34m\u001b[0m\u001b[0;34m\u001b[0m\u001b[0m\n\u001b[0m\u001b[1;32m     10\u001b[0m \u001b[0;32mfrom\u001b[0m \u001b[0msklearn\u001b[0m\u001b[0;34m.\u001b[0m\u001b[0mcluster\u001b[0m \u001b[0;32mimport\u001b[0m \u001b[0mKMeans\u001b[0m\u001b[0;34m\u001b[0m\u001b[0;34m\u001b[0m\u001b[0m\n\u001b[1;32m     11\u001b[0m \u001b[0;32mimport\u001b[0m \u001b[0mmatplotlib\u001b[0m\u001b[0;34m.\u001b[0m\u001b[0mcm\u001b[0m \u001b[0;32mas\u001b[0m \u001b[0mcm\u001b[0m\u001b[0;34m\u001b[0m\u001b[0;34m\u001b[0m\u001b[0m\n",
                        "\u001b[0;31mModuleNotFoundError\u001b[0m: No module named 'folium'"
                    ]
                }
            ],
            "source": "import requests\nimport csv\nimport lxml.html as lh\nfrom bs4 import BeautifulSoup\nimport pandas as pd\nfrom arcgis.gis import GIS\nimport urllib\nfrom geopy.geocoders import Nominatim\nimport folium # map rendering library\nfrom sklearn.cluster import KMeans\nimport matplotlib.cm as cm\nimport matplotlib.colors as colors\nimport matplotlib as plt\nimport numpy as np\nfrom pandas.io.json import json_normalize\nimport wget\nfrom sklearn.preprocessing import MinMaxScaler"
        },
        {
            "cell_type": "markdown",
            "metadata": {},
            "source": "3-1- Utilis\u00e9 Beautiful Soup's library functions pour extraire Arrondissement(Arr.), Nom, Population et densit\u00e9 from Wikipedia page"
        },
        {
            "cell_type": "code",
            "execution_count": 2,
            "metadata": {},
            "outputs": [],
            "source": "URL = 'https://fr.wikipedia.org/wiki/Arrondissements_de_Paris?veaction=edit&section=2'\npage = requests.get(URL)\nhtml = BeautifulSoup(page.text, 'html.parser')\ntable = html.findAll('table',{\"class\":\"sortable\"})[0]\nend_col = len(table.findAll('th'))\nend_row = len(table.findAll('tr'))"
        },
        {
            "cell_type": "markdown",
            "metadata": {},
            "source": "3-2-Extraire les donn\u00e9es avec html tags "
        },
        {
            "cell_type": "code",
            "execution_count": 12,
            "metadata": {},
            "outputs": [],
            "source": "row_data=[]\nstart_col = 0\nstart_row = 2   \ntr = table.findAll(['tr'])[start_row:end_row]\nth = table.find_all(['th'])[start_col:end_col]\nth_data = [col.text.strip('\\n') for col in th]\nfor cell in tr:\n    td = cell.find_all('td')\n    row = [i.text.replace('\\n','') for i in td]\n    if row[2] != \"Not assigned\":\n        row_data.append(row)"
        },
        {
            "cell_type": "markdown",
            "metadata": {},
            "source": "4 - R\u00e9sultats Cr\u00e9er une table de donn\u00e9es et structur\u00e9"
        },
        {
            "cell_type": "code",
            "execution_count": 22,
            "metadata": {},
            "outputs": [
                {
                    "data": {
                        "text/html": "<div>\n<style scoped>\n    .dataframe tbody tr th:only-of-type {\n        vertical-align: middle;\n    }\n\n    .dataframe tbody tr th {\n        vertical-align: top;\n    }\n\n    .dataframe thead th {\n        text-align: right;\n    }\n</style>\n<table border=\"1\" class=\"dataframe\">\n  <thead>\n    <tr style=\"text-align: right;\">\n      <th></th>\n      <th>0</th>\n      <th>1</th>\n      <th>2</th>\n      <th>3</th>\n      <th>4</th>\n      <th>5</th>\n      <th>6</th>\n      <th>7</th>\n      <th>8</th>\n      <th>9</th>\n      <th>10</th>\n      <th>11</th>\n      <th>12</th>\n      <th>13</th>\n      <th>14</th>\n      <th>15</th>\n    </tr>\n  </thead>\n  <tbody>\n    <tr>\n      <th>0</th>\n      <td>1er</td>\n      <td>Louvre</td>\n      <td>183</td>\n      <td>74\u00a0286</td>\n      <td>38\u00a0926</td>\n      <td>16\u00a0888</td>\n      <td>17\u00a0745</td>\n      <td>17\u00a0308</td>\n      <td>16\u00a0545</td>\n      <td>16\u00a0395</td>\n      <td>40\u00a0593</td>\n      <td>21\u00a0271</td>\n      <td>9\u00a0228</td>\n      <td>9\u00a0697</td>\n      <td>9\u00a0458</td>\n      <td>9\u00a0041</td>\n    </tr>\n    <tr>\n      <th>1</th>\n      <td>2e</td>\n      <td>Bourse</td>\n      <td>99</td>\n      <td>73\u00a0578</td>\n      <td>43\u00a0857</td>\n      <td>19\u00a0585</td>\n      <td>21\u00a0259</td>\n      <td>23\u00a0009</td>\n      <td>20\u00a0796</td>\n      <td>21\u00a0042</td>\n      <td>74\u00a0321</td>\n      <td>44\u00a0300</td>\n      <td>19\u00a0783</td>\n      <td>21\u00a0474</td>\n      <td>23\u00a0241</td>\n      <td>21\u00a0006</td>\n    </tr>\n    <tr>\n      <th>2</th>\n      <td>3e</td>\n      <td>Temple</td>\n      <td>117</td>\n      <td>89\u00a0687</td>\n      <td>65\u00a0312</td>\n      <td>34\u00a0248</td>\n      <td>34\u00a0721</td>\n      <td>35\u00a0652</td>\n      <td>35\u00a0049</td>\n      <td>34\u00a0389</td>\n      <td>76\u00a0656</td>\n      <td>55\u00a0822</td>\n      <td>29\u00a0272</td>\n      <td>29\u00a0676</td>\n      <td>30\u00a0472</td>\n      <td>29\u00a0956</td>\n    </tr>\n    <tr>\n      <th>3</th>\n      <td>4e</td>\n      <td>H\u00f4tel-de-Ville</td>\n      <td>160</td>\n      <td>95\u00a0003</td>\n      <td>66\u00a0621</td>\n      <td>30\u00a0675</td>\n      <td>28\u00a0268</td>\n      <td>28\u00a0012</td>\n      <td>27\u00a0146</td>\n      <td>28\u00a0370</td>\n      <td>59\u00a0377</td>\n      <td>41\u00a0638</td>\n      <td>19\u00a0172</td>\n      <td>18\u00a0211</td>\n      <td>17\u00a0507</td>\n      <td>16\u00a0966</td>\n    </tr>\n    <tr>\n      <th>4</th>\n      <td>5e</td>\n      <td>Panth\u00e9on</td>\n      <td>254</td>\n      <td>96\u00a0689</td>\n      <td>106\u00a0443</td>\n      <td>58\u00a0849</td>\n      <td>61\u00a0475</td>\n      <td>60\u00a0938</td>\n      <td>59\u00a0333</td>\n      <td>59\u00a0631</td>\n      <td>38\u00a0067</td>\n      <td>41\u00a0907</td>\n      <td>23\u00a0169</td>\n      <td>24\u00a0203</td>\n      <td>23\u00a0991</td>\n      <td>23\u00a0359</td>\n    </tr>\n    <tr>\n      <th>5</th>\n      <td>6e</td>\n      <td>Luxembourg</td>\n      <td>215</td>\n      <td>90\u00a0288</td>\n      <td>88\u00a0200</td>\n      <td>44\u00a0919</td>\n      <td>45\u00a0278</td>\n      <td>43\u00a0451</td>\n      <td>42\u00a0428</td>\n      <td>41\u00a0976</td>\n      <td>41\u00a0994</td>\n      <td>41\u00a0023</td>\n      <td>20\u00a0893</td>\n      <td>21\u00a0060</td>\n      <td>20\u00a0210</td>\n      <td>19\u00a0734</td>\n    </tr>\n    <tr>\n      <th>6</th>\n      <td>7e</td>\n      <td>Palais-Bourbon</td>\n      <td>409</td>\n      <td>78\u00a0553</td>\n      <td>104\u00a0412</td>\n      <td>56\u00a0985</td>\n      <td>56\u00a0612</td>\n      <td>57\u00a0974</td>\n      <td>54\u00a0133</td>\n      <td>52\u00a0193</td>\n      <td>19\u00a0206</td>\n      <td>25\u00a0529</td>\n      <td>13\u00a0933</td>\n      <td>13\u00a0842</td>\n      <td>14\u00a0175</td>\n      <td>13\u00a0235</td>\n    </tr>\n    <tr>\n      <th>7</th>\n      <td>8e</td>\n      <td>\u00c9lys\u00e9e</td>\n      <td>388</td>\n      <td>75\u00a0796</td>\n      <td>80\u00a0827</td>\n      <td>39\u00a0314</td>\n      <td>39\u00a0088</td>\n      <td>41\u00a0280</td>\n      <td>36\u00a0694</td>\n      <td>37\u00a0367</td>\n      <td>19\u00a0535</td>\n      <td>20\u00a0832</td>\n      <td>10\u00a0132</td>\n      <td>10\u00a0074</td>\n      <td>10\u00a0639</td>\n      <td>9\u00a0457</td>\n    </tr>\n    <tr>\n      <th>8</th>\n      <td>9e</td>\n      <td>Op\u00e9ra[note 1]</td>\n      <td>218</td>\n      <td>103\u00a0767</td>\n      <td>102\u00a0287</td>\n      <td>55\u00a0838</td>\n      <td>58\u00a0497</td>\n      <td>60\u00a0139</td>\n      <td>59\u00a0408</td>\n      <td>60\u00a0071</td>\n      <td>47\u00a0600</td>\n      <td>46\u00a0921</td>\n      <td>25\u00a0614</td>\n      <td>26\u00a0833</td>\n      <td>27\u00a0587</td>\n      <td>27\u00a0251</td>\n    </tr>\n    <tr>\n      <th>9</th>\n      <td>10e</td>\n      <td>Entrep\u00f4t, anciennement Enclos Saint-Laurent</td>\n      <td>289</td>\n      <td>135\u00a0392</td>\n      <td>129\u00a0179</td>\n      <td>89\u00a0612</td>\n      <td>92\u00a0082</td>\n      <td>95\u00a0394</td>\n      <td>91\u00a0770</td>\n      <td>90\u00a0836</td>\n      <td>46\u00a0848</td>\n      <td>44\u00a0699</td>\n      <td>31\u00a0008</td>\n      <td>31\u00a0862</td>\n      <td>33\u00a0008</td>\n      <td>31\u00a0754</td>\n    </tr>\n    <tr>\n      <th>10</th>\n      <td>11e</td>\n      <td>Popincourt</td>\n      <td>367</td>\n      <td>167\u00a0393</td>\n      <td>200\u00a0440</td>\n      <td>149\u00a0102</td>\n      <td>152\u00a0436</td>\n      <td>153\u00a0202</td>\n      <td>149\u00a0834</td>\n      <td>147\u00a0470</td>\n      <td>45\u00a0611</td>\n      <td>54\u00a0616</td>\n      <td>40\u00a0627</td>\n      <td>41\u00a0536</td>\n      <td>41\u00a0744</td>\n      <td>40\u00a0827</td>\n    </tr>\n    <tr>\n      <th>11</th>\n      <td>12e</td>\n      <td>Reuilly (hors bois de Vincennes)</td>\n      <td>637</td>\n      <td>87\u00a0678</td>\n      <td>158\u00a0437</td>\n      <td>136\u00a0591</td>\n      <td>141\u00a0519</td>\n      <td>144\u00a0262</td>\n      <td>142\u00a0340</td>\n      <td>141\u00a0287</td>\n      <td>13\u00a0764</td>\n      <td>24\u00a0872</td>\n      <td>21\u00a0443</td>\n      <td>22\u00a0216</td>\n      <td>22\u00a0647</td>\n      <td>22\u00a0345</td>\n    </tr>\n    <tr>\n      <th>12</th>\n      <td>13e</td>\n      <td>Gobelins</td>\n      <td>715</td>\n      <td>69\u00a0431</td>\n      <td>165\u00a0620</td>\n      <td>171\u00a0533</td>\n      <td>178\u00a0716</td>\n      <td>181\u00a0532</td>\n      <td>183\u00a0216</td>\n      <td>183\u00a0399</td>\n      <td>9\u00a0711</td>\n      <td>23\u00a0164</td>\n      <td>23\u00a0991</td>\n      <td>24\u00a0995</td>\n      <td>25\u00a0389</td>\n      <td>25\u00a0625</td>\n    </tr>\n    <tr>\n      <th>13</th>\n      <td>14e</td>\n      <td>Observatoire</td>\n      <td>564</td>\n      <td>69\u00a0611</td>\n      <td>181\u00a0414</td>\n      <td>132\u00a0844</td>\n      <td>134\u00a0370</td>\n      <td>138\u00a0299</td>\n      <td>139\u00a0992</td>\n      <td>136\u00a0941</td>\n      <td>12\u00a0342</td>\n      <td>32\u00a0166</td>\n      <td>23\u00a0883</td>\n      <td>23\u00a0824</td>\n      <td>24\u00a0521</td>\n      <td>24\u00a0821</td>\n    </tr>\n    <tr>\n      <th>14</th>\n      <td>15e</td>\n      <td>Vaugirard</td>\n      <td>848</td>\n      <td>75\u00a0449</td>\n      <td>250\u00a0124</td>\n      <td>225\u00a0362</td>\n      <td>232\u00a0949</td>\n      <td>236\u00a0715</td>\n      <td>234\u00a0994</td>\n      <td>235\u00a0178</td>\n      <td>8\u00a0897</td>\n      <td>29\u00a0496</td>\n      <td>26\u00a0576</td>\n      <td>27\u00a0470</td>\n      <td>27\u00a0915</td>\n      <td>27\u00a0712</td>\n    </tr>\n    <tr>\n      <th>15</th>\n      <td>16e</td>\n      <td>Passy (hors bois de Boulogne)</td>\n      <td>791</td>\n      <td>43\u00a0332</td>\n      <td>214\u00a0042</td>\n      <td>161\u00a0773</td>\n      <td>153\u00a0920</td>\n      <td>171\u00a0124</td>\n      <td>165\u00a0487</td>\n      <td>168\u00a0554</td>\n      <td>5\u00a0478</td>\n      <td>27\u00a0060</td>\n      <td>20\u00a0452</td>\n      <td>19\u00a0459</td>\n      <td>21\u00a0634</td>\n      <td>20\u00a0921</td>\n    </tr>\n    <tr>\n      <th>16</th>\n      <td>17e</td>\n      <td>Batignolles-Monceau</td>\n      <td>567</td>\n      <td>101\u00a0804</td>\n      <td>231\u00a0987</td>\n      <td>160\u00a0860</td>\n      <td>161\u00a0327</td>\n      <td>169\u00a0325</td>\n      <td>168\u00a0533</td>\n      <td>168\u00a0737</td>\n      <td>17\u00a0955</td>\n      <td>40\u00a0915</td>\n      <td>28\u00a0370</td>\n      <td>28\u00a0453</td>\n      <td>29\u00a0863</td>\n      <td>29\u00a0724</td>\n    </tr>\n    <tr>\n      <th>17</th>\n      <td>18e</td>\n      <td>Buttes-Montmartre</td>\n      <td>601</td>\n      <td>138\u00a0109</td>\n      <td>266\u00a0825</td>\n      <td>184\u00a0586</td>\n      <td>190\u00a0854</td>\n      <td>202\u00a0685</td>\n      <td>197\u00a0580</td>\n      <td>196\u00a0131</td>\n      <td>22\u00a0980</td>\n      <td>44\u00a0397</td>\n      <td>31\u00a0398</td>\n      <td>31\u00a0756</td>\n      <td>33\u00a0725</td>\n      <td>32\u00a0875</td>\n    </tr>\n    <tr>\n      <th>18</th>\n      <td>19e</td>\n      <td>Buttes-Chaumont</td>\n      <td>679</td>\n      <td>93\u00a0174</td>\n      <td>155\u00a0028</td>\n      <td>172\u00a0730</td>\n      <td>186\u00a0180</td>\n      <td>186\u00a0652</td>\n      <td>185\u00a0654</td>\n      <td>188\u00a0066</td>\n      <td>13\u00a0722</td>\n      <td>22\u00a0832</td>\n      <td>25\u00a0454</td>\n      <td>27\u00a0420</td>\n      <td>27\u00a0489</td>\n      <td>27\u00a0342</td>\n    </tr>\n    <tr>\n      <th>19</th>\n      <td>20e</td>\n      <td>M\u00e9nilmontant</td>\n      <td>598</td>\n      <td>92\u00a0772</td>\n      <td>200\u00a0208</td>\n      <td>182\u00a0952</td>\n      <td>193\u00a0205</td>\n      <td>196\u00a0880</td>\n      <td>195\u00a0556</td>\n      <td>196\u00a0739</td>\n      <td>15\u00a0514</td>\n      <td>33\u00a0480</td>\n      <td>30\u00a0594</td>\n      <td>32\u00a0309</td>\n      <td>32\u00a0923</td>\n      <td>32\u00a0702</td>\n    </tr>\n    <tr>\n      <th>20</th>\n      <td>Bois de Boulogne</td>\n      <td>846</td>\n      <td></td>\n      <td>None</td>\n      <td>None</td>\n      <td>None</td>\n      <td>None</td>\n      <td>None</td>\n      <td>None</td>\n      <td>None</td>\n      <td>None</td>\n      <td>None</td>\n      <td>None</td>\n      <td>None</td>\n      <td>None</td>\n      <td>None</td>\n    </tr>\n    <tr>\n      <th>21</th>\n      <td>Bois de Vincennes</td>\n      <td>995</td>\n      <td></td>\n      <td>None</td>\n      <td>None</td>\n      <td>None</td>\n      <td>None</td>\n      <td>None</td>\n      <td>None</td>\n      <td>None</td>\n      <td>None</td>\n      <td>None</td>\n      <td>None</td>\n      <td>None</td>\n      <td>None</td>\n      <td>None</td>\n    </tr>\n    <tr>\n      <th>22</th>\n      <td>Ville de Paris</td>\n      <td>10\u00a0540</td>\n      <td>1\u00a0851\u00a0792</td>\n      <td>2\u00a0850\u00a0189</td>\n      <td>2\u00a0125\u00a0246</td>\n      <td>2\u00a0181\u00a0371</td>\n      <td>2\u00a0243\u00a0833</td>\n      <td>2\u00a0206\u00a0488</td>\n      <td></td>\n      <td>17\u00a0569</td>\n      <td>27\u00a0042</td>\n      <td>20\u00a0164</td>\n      <td>20\u00a0696</td>\n      <td>21\u00a0289</td>\n      <td>20\u00a0934</td>\n      <td>None</td>\n    </tr>\n  </tbody>\n</table>\n</div>",
                        "text/plain": "                   0                                            1          2   \\\n0                 1er                                       Louvre        183   \n1                  2e                                       Bourse         99   \n2                  3e                                       Temple        117   \n3                  4e                               H\u00f4tel-de-Ville        160   \n4                  5e                                     Panth\u00e9on        254   \n5                  6e                                   Luxembourg        215   \n6                  7e                               Palais-Bourbon        409   \n7                  8e                                       \u00c9lys\u00e9e        388   \n8                  9e                                Op\u00e9ra[note 1]        218   \n9                 10e  Entrep\u00f4t, anciennement Enclos Saint-Laurent        289   \n10                11e                                   Popincourt        367   \n11                12e             Reuilly (hors bois de Vincennes)        637   \n12                13e                                     Gobelins        715   \n13                14e                                 Observatoire        564   \n14                15e                                    Vaugirard        848   \n15                16e                Passy (hors bois de Boulogne)        791   \n16                17e                          Batignolles-Monceau        567   \n17                18e                            Buttes-Montmartre        601   \n18                19e                              Buttes-Chaumont        679   \n19                20e                                 M\u00e9nilmontant        598   \n20   Bois de Boulogne                                          846              \n21  Bois de Vincennes                                          995              \n22     Ville de Paris                                       10\u00a0540  1\u00a0851\u00a0792   \n\n           3          4          5          6          7        8        9   \\\n0      74\u00a0286     38\u00a0926     16\u00a0888     17\u00a0745     17\u00a0308   16\u00a0545   16\u00a0395   \n1      73\u00a0578     43\u00a0857     19\u00a0585     21\u00a0259     23\u00a0009   20\u00a0796   21\u00a0042   \n2      89\u00a0687     65\u00a0312     34\u00a0248     34\u00a0721     35\u00a0652   35\u00a0049   34\u00a0389   \n3      95\u00a0003     66\u00a0621     30\u00a0675     28\u00a0268     28\u00a0012   27\u00a0146   28\u00a0370   \n4      96\u00a0689    106\u00a0443     58\u00a0849     61\u00a0475     60\u00a0938   59\u00a0333   59\u00a0631   \n5      90\u00a0288     88\u00a0200     44\u00a0919     45\u00a0278     43\u00a0451   42\u00a0428   41\u00a0976   \n6      78\u00a0553    104\u00a0412     56\u00a0985     56\u00a0612     57\u00a0974   54\u00a0133   52\u00a0193   \n7      75\u00a0796     80\u00a0827     39\u00a0314     39\u00a0088     41\u00a0280   36\u00a0694   37\u00a0367   \n8     103\u00a0767    102\u00a0287     55\u00a0838     58\u00a0497     60\u00a0139   59\u00a0408   60\u00a0071   \n9     135\u00a0392    129\u00a0179     89\u00a0612     92\u00a0082     95\u00a0394   91\u00a0770   90\u00a0836   \n10    167\u00a0393    200\u00a0440    149\u00a0102    152\u00a0436    153\u00a0202  149\u00a0834  147\u00a0470   \n11     87\u00a0678    158\u00a0437    136\u00a0591    141\u00a0519    144\u00a0262  142\u00a0340  141\u00a0287   \n12     69\u00a0431    165\u00a0620    171\u00a0533    178\u00a0716    181\u00a0532  183\u00a0216  183\u00a0399   \n13     69\u00a0611    181\u00a0414    132\u00a0844    134\u00a0370    138\u00a0299  139\u00a0992  136\u00a0941   \n14     75\u00a0449    250\u00a0124    225\u00a0362    232\u00a0949    236\u00a0715  234\u00a0994  235\u00a0178   \n15     43\u00a0332    214\u00a0042    161\u00a0773    153\u00a0920    171\u00a0124  165\u00a0487  168\u00a0554   \n16    101\u00a0804    231\u00a0987    160\u00a0860    161\u00a0327    169\u00a0325  168\u00a0533  168\u00a0737   \n17    138\u00a0109    266\u00a0825    184\u00a0586    190\u00a0854    202\u00a0685  197\u00a0580  196\u00a0131   \n18     93\u00a0174    155\u00a0028    172\u00a0730    186\u00a0180    186\u00a0652  185\u00a0654  188\u00a0066   \n19     92\u00a0772    200\u00a0208    182\u00a0952    193\u00a0205    196\u00a0880  195\u00a0556  196\u00a0739   \n20       None       None       None       None       None     None     None   \n21       None       None       None       None       None     None     None   \n22  2\u00a0850\u00a0189  2\u00a0125\u00a0246  2\u00a0181\u00a0371  2\u00a0243\u00a0833  2\u00a0206\u00a0488            17\u00a0569   \n\n        10      11      12      13      14      15  \n0   40\u00a0593  21\u00a0271   9\u00a0228   9\u00a0697   9\u00a0458   9\u00a0041  \n1   74\u00a0321  44\u00a0300  19\u00a0783  21\u00a0474  23\u00a0241  21\u00a0006  \n2   76\u00a0656  55\u00a0822  29\u00a0272  29\u00a0676  30\u00a0472  29\u00a0956  \n3   59\u00a0377  41\u00a0638  19\u00a0172  18\u00a0211  17\u00a0507  16\u00a0966  \n4   38\u00a0067  41\u00a0907  23\u00a0169  24\u00a0203  23\u00a0991  23\u00a0359  \n5   41\u00a0994  41\u00a0023  20\u00a0893  21\u00a0060  20\u00a0210  19\u00a0734  \n6   19\u00a0206  25\u00a0529  13\u00a0933  13\u00a0842  14\u00a0175  13\u00a0235  \n7   19\u00a0535  20\u00a0832  10\u00a0132  10\u00a0074  10\u00a0639   9\u00a0457  \n8   47\u00a0600  46\u00a0921  25\u00a0614  26\u00a0833  27\u00a0587  27\u00a0251  \n9   46\u00a0848  44\u00a0699  31\u00a0008  31\u00a0862  33\u00a0008  31\u00a0754  \n10  45\u00a0611  54\u00a0616  40\u00a0627  41\u00a0536  41\u00a0744  40\u00a0827  \n11  13\u00a0764  24\u00a0872  21\u00a0443  22\u00a0216  22\u00a0647  22\u00a0345  \n12   9\u00a0711  23\u00a0164  23\u00a0991  24\u00a0995  25\u00a0389  25\u00a0625  \n13  12\u00a0342  32\u00a0166  23\u00a0883  23\u00a0824  24\u00a0521  24\u00a0821  \n14   8\u00a0897  29\u00a0496  26\u00a0576  27\u00a0470  27\u00a0915  27\u00a0712  \n15   5\u00a0478  27\u00a0060  20\u00a0452  19\u00a0459  21\u00a0634  20\u00a0921  \n16  17\u00a0955  40\u00a0915  28\u00a0370  28\u00a0453  29\u00a0863  29\u00a0724  \n17  22\u00a0980  44\u00a0397  31\u00a0398  31\u00a0756  33\u00a0725  32\u00a0875  \n18  13\u00a0722  22\u00a0832  25\u00a0454  27\u00a0420  27\u00a0489  27\u00a0342  \n19  15\u00a0514  33\u00a0480  30\u00a0594  32\u00a0309  32\u00a0923  32\u00a0702  \n20    None    None    None    None    None    None  \n21    None    None    None    None    None    None  \n22  27\u00a0042  20\u00a0164  20\u00a0696  21\u00a0289  20\u00a0934    None  "
                    },
                    "execution_count": 22,
                    "metadata": {},
                    "output_type": "execute_result"
                }
            ],
            "source": "df_paris = pd.DataFrame(row_data)\ndf_paris"
        },
        {
            "cell_type": "markdown",
            "metadata": {},
            "source": "Get & Set Foursquare credentials"
        },
        {
            "cell_type": "code",
            "execution_count": 23,
            "metadata": {},
            "outputs": [
                {
                    "name": "stdout",
                    "output_type": "stream",
                    "text": "Your credentails:\nCLIENT_ID: 5CMJHFWSA1RHJGPGHBV3NM15NR4J1Z0ACEGYVHIGLLY1KCH5\nCLIENT_SECRET:YHUIOAL1GG10GR1C3LBBXFVTI1FBRWWCXL2JO3BPTZIAROP1\n"
                }
            ],
            "source": "CLIENT_ID = '5CMJHFWSA1RHJGPGHBV3NM15NR4J1Z0ACEGYVHIGLLY1KCH5' # your Foursquare ID\nCLIENT_SECRET = 'YHUIOAL1GG10GR1C3LBBXFVTI1FBRWWCXL2JO3BPTZIAROP1' # your Foursquare Secret\nVERSION = '20200731' # Foursquare API version\n\nprint('Your credentails:')\nprint('CLIENT_ID: ' + CLIENT_ID)\nprint('CLIENT_SECRET:' + CLIENT_SECRET)"
        },
        {
            "cell_type": "markdown",
            "metadata": {},
            "source": "5- Commentaires de r\u00e9sultats"
        },
        {
            "cell_type": "markdown",
            "metadata": {},
            "source": "Le r\u00e9sultat de la r\u00e9partition de la population affich\u00e9 en r\u00e9sultat pr\u00e9sente en 1er colonne - les num\u00e9ro d'arrondissement; en 2e- le nom des arrondissements; en 3e colonne - la superficie ; de la 4e \u00e0 la 10e colonne la population par ann\u00e9e difficle \u00e0 structurer et de la 11e \u00e0 la derni\u00e8re - la densit\u00e9 d'habitants par km2."
        },
        {
            "cell_type": "markdown",
            "metadata": {},
            "source": "6- Conclusion"
        },
        {
            "cell_type": "markdown",
            "metadata": {},
            "source": "Ce rapport synth\u00e9tique non approfondit pr\u00e9sente un peu, la r\u00e9partition de la population parisienne dans le temps pouvant aider \u00e0 la prise de d\u00e9cision des investisseurs immobiliers int\u00e9r\u00eass\u00e9s par la ville."
        },
        {
            "cell_type": "code",
            "execution_count": null,
            "metadata": {},
            "outputs": [],
            "source": ""
        }
    ],
    "metadata": {
        "kernelspec": {
            "display_name": "Python 3.6",
            "language": "python",
            "name": "python3"
        },
        "language_info": {
            "codemirror_mode": {
                "name": "ipython",
                "version": 3
            },
            "file_extension": ".py",
            "mimetype": "text/x-python",
            "name": "python",
            "nbconvert_exporter": "python",
            "pygments_lexer": "ipython3",
            "version": "3.6.9"
        }
    },
    "nbformat": 4,
    "nbformat_minor": 1
}
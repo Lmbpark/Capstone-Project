{
    "cells": [
        {
            "metadata": {
                "collapsed": true
            },
            "cell_type": "markdown",
            "source": "Notebook Purpose \nThis notebook will be use for mainly capstone project"
        },
        {
            "metadata": {},
            "cell_type": "code",
            "source": "import pandas as pd",
            "execution_count": 1,
            "outputs": []
        },
        {
            "metadata": {},
            "cell_type": "code",
            "source": "import numpy as np",
            "execution_count": 2,
            "outputs": []
        },
        {
            "metadata": {},
            "cell_type": "code",
            "source": "print(\"Hello Capstone project course\")",
            "execution_count": 3,
            "outputs": [
                {
                    "output_type": "stream",
                    "text": "Hello Capstone project course\n",
                    "name": "stdout"
                }
            ]
        },
        {
            "metadata": {},
            "cell_type": "code",
            "source": "",
            "execution_count": 1,
            "outputs": [
                {
                    "output_type": "error",
                    "ename": "SyntaxError",
                    "evalue": "invalid syntax (<ipython-input-1-7d0cda89913e>, line 1)",
                    "traceback": [
                        "\u001b[0;36m  File \u001b[0;32m\"<ipython-input-1-7d0cda89913e>\"\u001b[0;36m, line \u001b[0;32m1\u001b[0m\n\u001b[0;31m    $ ssh-keygen -t rsa -b 4096 -C \"limismila@gmail.com\"> Generating public/private rsa key pair.\u001b[0m\n\u001b[0m    ^\u001b[0m\n\u001b[0;31mSyntaxError\u001b[0m\u001b[0;31m:\u001b[0m invalid syntax\n"
                    ]
                }
            ]
        },
        {
            "metadata": {},
            "cell_type": "code",
            "source": "",
            "execution_count": null,
            "outputs": []
        }
    ],
    "metadata": {
        "kernelspec": {
            "name": "python3",
            "display_name": "Python 3.6",
            "language": "python"
        },
        "language_info": {
            "name": "python",
            "version": "3.6.9",
            "mimetype": "text/x-python",
            "codemirror_mode": {
                "name": "ipython",
                "version": 3
            },
            "pygments_lexer": "ipython3",
            "nbconvert_exporter": "python",
            "file_extension": ".py"
        },
        "celltoolbar": "Format de la Cellule Texte Brut"
    },
    "nbformat": 4,
    "nbformat_minor": 1
}